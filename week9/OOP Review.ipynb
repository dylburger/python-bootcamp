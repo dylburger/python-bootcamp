{
 "cells": [
  {
   "cell_type": "markdown",
   "metadata": {},
   "source": [
    "Let's create and operate a car using functions and compare it with how we might create a car using classes.\n",
    "\n",
    "A lot of what we just learned with classes: I have an object with associated attributes (properties) seems a lot like a dictionary. Let's start by creating a `make_car` function that simply returns a dictionary of properties tied to a car:"
   ]
  },
  {
   "cell_type": "code",
   "execution_count": 10,
   "metadata": {},
   "outputs": [],
   "source": [
    "def make_car(make, model, owner):\n",
    "    return {\n",
    "        'make': make,\n",
    "        'model': model,\n",
    "        'owner': owner,\n",
    "        'miles': 0,\n",
    "        'seatbelts': True,\n",
    "    }"
   ]
  },
  {
   "cell_type": "code",
   "execution_count": 26,
   "metadata": {},
   "outputs": [],
   "source": [
    "toyota_corolla = make_car('Toyota', 'Corolla', 'Dylan')"
   ]
  },
  {
   "cell_type": "code",
   "execution_count": 27,
   "metadata": {},
   "outputs": [
    {
     "data": {
      "text/plain": [
       "{'make': 'Toyota',\n",
       " 'model': 'Corolla',\n",
       " 'owner': 'Dylan',\n",
       " 'miles': 0,\n",
       " 'seatbelts': True}"
      ]
     },
     "execution_count": 27,
     "metadata": {},
     "output_type": "execute_result"
    }
   ],
   "source": [
    "toyota_corolla"
   ]
  },
  {
   "cell_type": "markdown",
   "metadata": {},
   "source": [
    "Now, let's write some functions to do things with our car:"
   ]
  },
  {
   "cell_type": "code",
   "execution_count": 13,
   "metadata": {},
   "outputs": [],
   "source": [
    "def drive_car(car, miles):\n",
    "    car['miles'] += miles"
   ]
  },
  {
   "cell_type": "code",
   "execution_count": 14,
   "metadata": {},
   "outputs": [],
   "source": [
    "drive_car(toyota_corolla, 100)"
   ]
  },
  {
   "cell_type": "code",
   "execution_count": 15,
   "metadata": {},
   "outputs": [
    {
     "data": {
      "text/plain": [
       "{'make': 'Toyoya',\n",
       " 'model': 'Corolla',\n",
       " 'owner': 'Dylan',\n",
       " 'miles': 100,\n",
       " 'seatbelts': True}"
      ]
     },
     "execution_count": 15,
     "metadata": {},
     "output_type": "execute_result"
    }
   ],
   "source": [
    "toyota_corolla"
   ]
  },
  {
   "cell_type": "code",
   "execution_count": 16,
   "metadata": {},
   "outputs": [],
   "source": [
    "def change_car_owner(car, new_owner):\n",
    "    car['owner'] = new_owner"
   ]
  },
  {
   "cell_type": "code",
   "execution_count": 17,
   "metadata": {},
   "outputs": [],
   "source": [
    "change_car_owner(toyota_corolla, 'Vicky')"
   ]
  },
  {
   "cell_type": "code",
   "execution_count": 19,
   "metadata": {},
   "outputs": [
    {
     "data": {
      "text/plain": [
       "{'make': 'Toyoya',\n",
       " 'model': 'Corolla',\n",
       " 'owner': 'Vicky',\n",
       " 'miles': 100,\n",
       " 'seatbelts': True}"
      ]
     },
     "execution_count": 19,
     "metadata": {},
     "output_type": "execute_result"
    }
   ],
   "source": [
    "toyota_corolla"
   ]
  },
  {
   "cell_type": "markdown",
   "metadata": {},
   "source": [
    "Let's see if we can write a `Car` class that mimics this behavior:"
   ]
  },
  {
   "cell_type": "code",
   "execution_count": 29,
   "metadata": {},
   "outputs": [],
   "source": [
    "class Car():\n",
    "    \n",
    "    seatbelts = True\n",
    "    def __init__(self, make, model, owner):\n",
    "        self.make = make\n",
    "        self.model = model\n",
    "        self.owner = owner\n",
    "        self.miles = 0\n",
    "    \n",
    "    def drive(self, miles):\n",
    "        self.miles += miles\n",
    "        \n",
    "    def change_owner(self, new_owner):\n",
    "        self.owner = new_owner"
   ]
  },
  {
   "cell_type": "code",
   "execution_count": 30,
   "metadata": {},
   "outputs": [],
   "source": [
    "isuzu_rodeo = Car('Isuzu', 'Rodeo', 'Dylan')"
   ]
  },
  {
   "cell_type": "code",
   "execution_count": 31,
   "metadata": {},
   "outputs": [
    {
     "data": {
      "text/plain": [
       "0"
      ]
     },
     "execution_count": 31,
     "metadata": {},
     "output_type": "execute_result"
    }
   ],
   "source": [
    "isuzu_rodeo.miles"
   ]
  },
  {
   "cell_type": "code",
   "execution_count": 32,
   "metadata": {},
   "outputs": [],
   "source": [
    "isuzu_rodeo.drive(1000)"
   ]
  },
  {
   "cell_type": "code",
   "execution_count": 33,
   "metadata": {},
   "outputs": [
    {
     "data": {
      "text/plain": [
       "1000"
      ]
     },
     "execution_count": 33,
     "metadata": {},
     "output_type": "execute_result"
    }
   ],
   "source": [
    "isuzu_rodeo.miles"
   ]
  },
  {
   "cell_type": "code",
   "execution_count": 34,
   "metadata": {},
   "outputs": [
    {
     "data": {
      "text/plain": [
       "'Dylan'"
      ]
     },
     "execution_count": 34,
     "metadata": {},
     "output_type": "execute_result"
    }
   ],
   "source": [
    "isuzu_rodeo.owner"
   ]
  },
  {
   "cell_type": "code",
   "execution_count": 35,
   "metadata": {},
   "outputs": [],
   "source": [
    "isuzu_rodeo.change_owner('Vicky')"
   ]
  },
  {
   "cell_type": "code",
   "execution_count": 36,
   "metadata": {},
   "outputs": [
    {
     "data": {
      "text/plain": [
       "'Vicky'"
      ]
     },
     "execution_count": 36,
     "metadata": {},
     "output_type": "execute_result"
    }
   ],
   "source": [
    "isuzu_rodeo.owner"
   ]
  },
  {
   "cell_type": "markdown",
   "metadata": {},
   "source": [
    "A few initial differences between functions and classes stand out:\n",
    "\n",
    "* With the \"functional\" way, the functions to create a car and drive a car are separate. This means we have to pass our instance of our car (the `toyota_corolla` dictionary, here) to the `drive_car` function. That's not the case with classes.\n",
    "* With functions, we need to append a `_car` suffix to every function (e.g. `drive_car`). Since class methods are executed on the object themselves, we can simply name our method `drive` - there's no need for the `_car` suffix since we're running the method on our car.\n",
    "* With classes, we \"carry\" our data and the methods that operate on that data with our object. With functions, we'd have to search through some large list of functions to see which functions work for our car. With objects, remember that Jupyter allows you to type the object, followed by a `.`, then `Tab` to see all the methods and attributes available to you. This built-in context is awesome.\n",
    "* With classes, since everything is contained in one class \"template\", it's much easier to see how an object is supposed to work: all the data and methods are in a single place. With larger programs this logical cohesion cuts many minutes off the time to understand new code."
   ]
  }
 ],
 "metadata": {
  "kernelspec": {
   "display_name": "Python 3",
   "language": "python",
   "name": "python3"
  },
  "language_info": {
   "codemirror_mode": {
    "name": "ipython",
    "version": 3
   },
   "file_extension": ".py",
   "mimetype": "text/x-python",
   "name": "python",
   "nbconvert_exporter": "python",
   "pygments_lexer": "ipython3",
   "version": "3.7.0"
  }
 },
 "nbformat": 4,
 "nbformat_minor": 2
}
