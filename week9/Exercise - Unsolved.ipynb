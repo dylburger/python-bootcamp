{
 "cells": [
  {
   "cell_type": "markdown",
   "metadata": {},
   "source": [
    "You'll write a class that helps process and manipulate a CSV file, facilitating common operations you might want to do once you get a CSV.\n",
    "\n",
    "Your class should accept a path / filename to the CSV as the only argument to the constructor, e.g.\n",
    "\n",
    "```python\n",
    "csv_object = CSV('test.csv')\n",
    "```\n",
    "\n",
    "In this example, you should assume that the first row of the CSV contains the names of the columns within it (i.e. the first row is the \"header\" row).\n",
    "\n",
    "The class should define the following attributes:\n",
    "\n",
    "* `filename` (str): the name of the path / filename passed to the constructor\n",
    "* `col_names` (list): the names of the fields of the CSV\n",
    "* `data` (list of lists): each row should be a list of fields, with the CSV as a whole being a list of rows. This list of lists should **not** contain the header field (i.e. the `col_names`)\n",
    "* `num_rows` (int): the number of rows in the CSV, excluding the first, header row\n",
    "* `num_cols` (int): the number of columns in the CSV\n",
    "\n",
    "and the following methods:\n",
    "\n",
    "* `print_shape`: should print a tuple of the (number of rows, number of columns), e.g. `(20, 5)`\n",
    "* `add_row`: accepts a list of fields (a new row), should add a new row to the end of our `data` attribute, but **should not** save the new data to the original CSV\n",
    "* `save`: accepts no arguments, should save the current state of the `data` attribute, along with the header row, to the original filename (should overwrite the original file)\n",
    "\n",
    "You'll find the [`csv` package](https://docs.python.org/3/library/csv.html) helpful here, specifically the `DictReader` class."
   ]
  },
  {
   "cell_type": "code",
   "execution_count": 99,
   "metadata": {},
   "outputs": [],
   "source": [
    "import csv"
   ]
  },
  {
   "cell_type": "code",
   "execution_count": 114,
   "metadata": {},
   "outputs": [],
   "source": [
    "class CSV():\n",
    "    # Your code goes here!\n",
    "    pass"
   ]
  },
  {
   "cell_type": "markdown",
   "metadata": {},
   "source": [
    "Here are some examples of what the attributes and methods should return for your CSV class:"
   ]
  },
  {
   "cell_type": "code",
   "execution_count": 101,
   "metadata": {},
   "outputs": [],
   "source": [
    "c = CSV('test.csv')"
   ]
  },
  {
   "cell_type": "code",
   "execution_count": 102,
   "metadata": {},
   "outputs": [
    {
     "data": {
      "text/plain": [
       "'test.csv'"
      ]
     },
     "execution_count": 102,
     "metadata": {},
     "output_type": "execute_result"
    }
   ],
   "source": [
    "c.filename"
   ]
  },
  {
   "cell_type": "code",
   "execution_count": 103,
   "metadata": {},
   "outputs": [
    {
     "data": {
      "text/plain": [
       "['retailer', 'item', 'quantity', 'price']"
      ]
     },
     "execution_count": 103,
     "metadata": {},
     "output_type": "execute_result"
    }
   ],
   "source": [
    "c.col_names"
   ]
  },
  {
   "cell_type": "code",
   "execution_count": 104,
   "metadata": {},
   "outputs": [
    {
     "data": {
      "text/plain": [
       "[['Safeway', 'Apples', '0', '0.50'],\n",
       " ['Safeway', 'Bananas', '5', '0.75'],\n",
       " ['Safeway', 'Oranges', '10', '1.00']]"
      ]
     },
     "execution_count": 104,
     "metadata": {},
     "output_type": "execute_result"
    }
   ],
   "source": [
    "c.data"
   ]
  },
  {
   "cell_type": "code",
   "execution_count": 105,
   "metadata": {},
   "outputs": [
    {
     "data": {
      "text/plain": [
       "3"
      ]
     },
     "execution_count": 105,
     "metadata": {},
     "output_type": "execute_result"
    }
   ],
   "source": [
    "c.num_rows"
   ]
  },
  {
   "cell_type": "code",
   "execution_count": 106,
   "metadata": {},
   "outputs": [
    {
     "data": {
      "text/plain": [
       "4"
      ]
     },
     "execution_count": 106,
     "metadata": {},
     "output_type": "execute_result"
    }
   ],
   "source": [
    "c.num_cols"
   ]
  },
  {
   "cell_type": "code",
   "execution_count": 107,
   "metadata": {},
   "outputs": [
    {
     "name": "stdout",
     "output_type": "stream",
     "text": [
      "(3, 4)\n"
     ]
    }
   ],
   "source": [
    "c.print_shape()"
   ]
  },
  {
   "cell_type": "code",
   "execution_count": 108,
   "metadata": {},
   "outputs": [],
   "source": [
    "c.add_row([\"Safeway\", \"Blueberries\", 30, 3.00])"
   ]
  },
  {
   "cell_type": "code",
   "execution_count": 109,
   "metadata": {},
   "outputs": [
    {
     "data": {
      "text/plain": [
       "[['Safeway', 'Apples', '0', '0.50'],\n",
       " ['Safeway', 'Bananas', '5', '0.75'],\n",
       " ['Safeway', 'Oranges', '10', '1.00'],\n",
       " ['Safeway', 'Blueberries', 30, 3.0]]"
      ]
     },
     "execution_count": 109,
     "metadata": {},
     "output_type": "execute_result"
    }
   ],
   "source": [
    "c.data"
   ]
  },
  {
   "cell_type": "code",
   "execution_count": 110,
   "metadata": {},
   "outputs": [],
   "source": [
    "c.save()"
   ]
  },
  {
   "cell_type": "markdown",
   "metadata": {},
   "source": [
    "After saving the CSV to disk, read it in as a new object of the `CSV` class to confirm the new data is present:"
   ]
  },
  {
   "cell_type": "code",
   "execution_count": 111,
   "metadata": {},
   "outputs": [],
   "source": [
    "new_c = CSV('test.csv')"
   ]
  },
  {
   "cell_type": "code",
   "execution_count": 112,
   "metadata": {},
   "outputs": [
    {
     "data": {
      "text/plain": [
       "[['Safeway', 'Apples', '0', '0.50'],\n",
       " ['Safeway', 'Bananas', '5', '0.75'],\n",
       " ['Safeway', 'Oranges', '10', '1.00'],\n",
       " ['Safeway', 'Blueberries', '30', '3.0']]"
      ]
     },
     "execution_count": 112,
     "metadata": {},
     "output_type": "execute_result"
    }
   ],
   "source": [
    "new_c.data"
   ]
  }
 ],
 "metadata": {
  "kernelspec": {
   "display_name": "Python 3",
   "language": "python",
   "name": "python3"
  },
  "language_info": {
   "codemirror_mode": {
    "name": "ipython",
    "version": 3
   },
   "file_extension": ".py",
   "mimetype": "text/x-python",
   "name": "python",
   "nbconvert_exporter": "python",
   "pygments_lexer": "ipython3",
   "version": "3.7.0"
  }
 },
 "nbformat": 4,
 "nbformat_minor": 2
}
