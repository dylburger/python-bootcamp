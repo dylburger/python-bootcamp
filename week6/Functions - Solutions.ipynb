{
 "cells": [
  {
   "cell_type": "markdown",
   "metadata": {},
   "source": [
    "### Problem 1"
   ]
  },
  {
   "cell_type": "code",
   "execution_count": 39,
   "metadata": {},
   "outputs": [],
   "source": [
    "def remove_non_alphanumeric_chars(s):\n",
    "    \"\"\"\n",
    "    Args:\n",
    "        s (str): a string\n",
    "    \n",
    "    Returns:\n",
    "        (str) A new string with all non-alphanumeric characters stripped\n",
    "    \"\"\"\n",
    "    return \"\".join([char for char in s if char.isalnum()])"
   ]
  },
  {
   "cell_type": "code",
   "execution_count": 40,
   "metadata": {},
   "outputs": [
    {
     "data": {
      "text/plain": [
       "'abc123'"
      ]
     },
     "execution_count": 40,
     "metadata": {},
     "output_type": "execute_result"
    }
   ],
   "source": [
    "remove_non_alphanumeric_chars('abc123')"
   ]
  },
  {
   "cell_type": "code",
   "execution_count": 41,
   "metadata": {},
   "outputs": [
    {
     "data": {
      "text/plain": [
       "'abc123'"
      ]
     },
     "execution_count": 41,
     "metadata": {},
     "output_type": "execute_result"
    }
   ],
   "source": [
    "remove_non_alphanumeric_chars('abc123[]')"
   ]
  },
  {
   "cell_type": "code",
   "execution_count": 42,
   "metadata": {},
   "outputs": [
    {
     "data": {
      "text/plain": [
       "'abc123'"
      ]
     },
     "execution_count": 42,
     "metadata": {},
     "output_type": "execute_result"
    }
   ],
   "source": [
    "remove_non_alphanumeric_chars('^%abc123[]')"
   ]
  },
  {
   "cell_type": "code",
   "execution_count": 43,
   "metadata": {},
   "outputs": [
    {
     "data": {
      "text/plain": [
       "'ABC123'"
      ]
     },
     "execution_count": 43,
     "metadata": {},
     "output_type": "execute_result"
    }
   ],
   "source": [
    "remove_non_alphanumeric_chars('ABC123')"
   ]
  },
  {
   "cell_type": "markdown",
   "metadata": {},
   "source": [
    "### Problem 2"
   ]
  },
  {
   "cell_type": "code",
   "execution_count": 46,
   "metadata": {},
   "outputs": [],
   "source": [
    "def count_unique_words_in_file(filename):\n",
    "    \"\"\" Given a filename, return the count of unique words in the file\n",
    "    \n",
    "        Args:\n",
    "            filename (str): relative path to the file\n",
    "        Returns:\n",
    "            (int): the number of unique words in the file\n",
    "    \"\"\"\n",
    "    with open(filename, 'r') as f:\n",
    "        words = f.read().split()\n",
    "        \n",
    "    return len(set(words))"
   ]
  },
  {
   "cell_type": "code",
   "execution_count": 47,
   "metadata": {},
   "outputs": [
    {
     "data": {
      "text/plain": [
       "4"
      ]
     },
     "execution_count": 47,
     "metadata": {},
     "output_type": "execute_result"
    }
   ],
   "source": [
    "count_unique_words_in_file('test-file')"
   ]
  },
  {
   "cell_type": "code",
   "execution_count": 48,
   "metadata": {},
   "outputs": [
    {
     "data": {
      "text/plain": [
       "5"
      ]
     },
     "execution_count": 48,
     "metadata": {},
     "output_type": "execute_result"
    }
   ],
   "source": [
    "count_unique_words_in_file('test-file-2')"
   ]
  },
  {
   "cell_type": "code",
   "execution_count": 49,
   "metadata": {},
   "outputs": [
    {
     "data": {
      "text/plain": [
       "3"
      ]
     },
     "execution_count": 49,
     "metadata": {},
     "output_type": "execute_result"
    }
   ],
   "source": [
    "count_unique_words_in_file('test-file-3')"
   ]
  },
  {
   "cell_type": "markdown",
   "metadata": {},
   "source": [
    "### Problem 3"
   ]
  },
  {
   "cell_type": "code",
   "execution_count": 50,
   "metadata": {},
   "outputs": [],
   "source": [
    "def median(*args):\n",
    "    \"\"\" Accepts a variable number of ints / floats,\n",
    "        returning the median of all numbers passed\n",
    "    \"\"\"\n",
    "    sorted_nums = sorted(args)\n",
    "    if len(sorted_nums) % 2 == 0:\n",
    "        middle_index = int((len(sorted_nums) / 2) - 1)\n",
    "        middle_nums = sorted_nums[middle_index:middle_index+2]\n",
    "        return sum(middle_nums) / len(middle_nums)\n",
    "    \n",
    "    return sorted_nums[int(len(sorted_nums) / 2)]"
   ]
  },
  {
   "cell_type": "code",
   "execution_count": 51,
   "metadata": {},
   "outputs": [
    {
     "data": {
      "text/plain": [
       "5"
      ]
     },
     "execution_count": 51,
     "metadata": {},
     "output_type": "execute_result"
    }
   ],
   "source": [
    "median(5)"
   ]
  },
  {
   "cell_type": "code",
   "execution_count": 52,
   "metadata": {},
   "outputs": [
    {
     "data": {
      "text/plain": [
       "2.5"
      ]
     },
     "execution_count": 52,
     "metadata": {},
     "output_type": "execute_result"
    }
   ],
   "source": [
    "median(4, 3, 2, 1)"
   ]
  },
  {
   "cell_type": "code",
   "execution_count": 53,
   "metadata": {},
   "outputs": [
    {
     "data": {
      "text/plain": [
       "2"
      ]
     },
     "execution_count": 53,
     "metadata": {},
     "output_type": "execute_result"
    }
   ],
   "source": [
    "median(1, 2, 3)"
   ]
  },
  {
   "cell_type": "markdown",
   "metadata": {},
   "source": [
    "### Problem 4\n",
    "\n",
    "For problem 4, I'll present two solutions: one using the `csv` package to faciliate the reading and writing of data to CSVs, and another that uses no third-party packages. I'd take the time to compare the solutions, and also think about why you may want to (or not want to) use the `csv` package for this solution.\n",
    "\n",
    "The docs for the `csv` package can be [found here](https://docs.python.org/3/library/csv.html).\n",
    "\n",
    "Note that there are many, many different ways you could have solved this problem. **Feel free to share your code with the class in Slack!**"
   ]
  },
  {
   "cell_type": "code",
   "execution_count": 1,
   "metadata": {},
   "outputs": [],
   "source": [
    "import csv\n",
    "\n",
    "def process_inventory_files(inventory_file, purchased_file):\n",
    "    with open(inventory_file, 'r') as inventory_f:\n",
    "        inventory_lines = inventory_f.readlines()\n",
    "\n",
    "    with open(purchased_file, 'r') as purchased_f:\n",
    "        purchased_lines = purchased_f.readlines()\n",
    "\n",
    "    # See https://docs.python.org/3/library/stdtypes.html#dict for how this works.\n",
    "    # Play around with the output of csv.reader() to see what that returns first,\n",
    "    # then experiment with dict()\n",
    "    inventory_dict = dict(csv.reader(inventory_lines))\n",
    "    purchased_dict = dict(csv.reader(purchased_lines))\n",
    "\n",
    "    # Create a list of two-element pairs: [item, inventory - purchased amount]\n",
    "    updated_inventory = [\n",
    "        [item, int(inventory_dict[item]) - int(purchased_dict.get(item, 0))] for item in inventory_dict.keys()\n",
    "    ]\n",
    "\n",
    "    with open('updated-inventory.csv', 'w') as updated_inventory_f:\n",
    "        outcsv = csv.writer(updated_inventory_f)\n",
    "        outcsv.writerows(updated_inventory)"
   ]
  },
  {
   "cell_type": "code",
   "execution_count": 2,
   "metadata": {},
   "outputs": [],
   "source": [
    "process_inventory_files('inventory.csv', 'purchased.csv')"
   ]
  },
  {
   "cell_type": "code",
   "execution_count": 3,
   "metadata": {},
   "outputs": [
    {
     "name": "stdout",
     "output_type": "stream",
     "text": [
      "apple,0\r",
      "\r\n",
      "banana,3\r",
      "\r\n",
      "carrot,0\r",
      "\r\n",
      "candy,3\r",
      "\r\n"
     ]
    }
   ],
   "source": [
    "!cat updated-inventory.csv"
   ]
  },
  {
   "cell_type": "markdown",
   "metadata": {},
   "source": [
    "This solution requires no third-party module, but requires some creative manipulation of our data prior to creating our dictionary:"
   ]
  },
  {
   "cell_type": "code",
   "execution_count": 9,
   "metadata": {},
   "outputs": [],
   "source": [
    "def process_inventory_files(inventory_file, purchased_file):\n",
    "    with open(inventory_file, 'r') as inventory_f:\n",
    "        inventory_lines = inventory_f.readlines()\n",
    "\n",
    "    with open(purchased_file, 'r') as purchased_f:\n",
    "        purchased_lines = purchased_f.readlines()\n",
    "        \n",
    "    inventory_items = [[el.strip().split(',')[0], el.strip().split(',')[1]] for el in inventory_lines]\n",
    "    purchased_items = [[el.strip().split(',')[0], el.strip().split(',')[1]] for el in purchased_lines]\n",
    "\n",
    "    # See https://docs.python.org/3/library/stdtypes.html#dict for how this works.\n",
    "    # Play around with the output of csv.reader() to see what that returns first,\n",
    "    # then experiment with dict()\n",
    "    inventory_dict = dict(inventory_items)\n",
    "    purchased_dict = dict(purchased_items)\n",
    "\n",
    "    # Create a list of two-element pairs: [item, inventory - purchased amount]\n",
    "    updated_inventory = [\n",
    "        [item, int(inventory_dict[item]) - int(purchased_dict.get(item, 0))] for item in inventory_dict.keys()\n",
    "    ]\n",
    "\n",
    "    with open('updated-inventory.csv', 'w') as updated_inventory_f:\n",
    "        for line in updated_inventory:\n",
    "            updated_inventory_f.write(','.join([str(el) for el in line]) + '\\n')"
   ]
  },
  {
   "cell_type": "code",
   "execution_count": 10,
   "metadata": {},
   "outputs": [],
   "source": [
    "process_inventory_files('inventory.csv', 'purchased.csv')"
   ]
  },
  {
   "cell_type": "code",
   "execution_count": 11,
   "metadata": {},
   "outputs": [
    {
     "name": "stdout",
     "output_type": "stream",
     "text": [
      "apple,0\r\n",
      "banana,3\r\n",
      "carrot,0\r\n",
      "candy,3\r\n"
     ]
    }
   ],
   "source": [
    "!cat updated-inventory.csv"
   ]
  }
 ],
 "metadata": {
  "kernelspec": {
   "display_name": "Python 3",
   "language": "python",
   "name": "python3"
  },
  "language_info": {
   "codemirror_mode": {
    "name": "ipython",
    "version": 3
   },
   "file_extension": ".py",
   "mimetype": "text/x-python",
   "name": "python",
   "nbconvert_exporter": "python",
   "pygments_lexer": "ipython3",
   "version": "3.7.0"
  }
 },
 "nbformat": 4,
 "nbformat_minor": 2
}
