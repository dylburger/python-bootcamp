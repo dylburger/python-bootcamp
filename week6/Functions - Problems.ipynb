{
 "cells": [
  {
   "cell_type": "markdown",
   "metadata": {},
   "source": [
    "### Problem 1\n",
    "\n",
    "Create a function that takes a single string as an argument, and **returns a new string with all non-alphanumeric characters removed**.\n",
    "\n",
    "Some example input and output:\n",
    "\n",
    "```\n",
    "remove_non_alphanumeric_chars('abc123')  ->  'abc123'\n",
    "remove_non_alphanumeric_chars('abc123[]')  ->  'abc123'\n",
    "remove_non_alphanumeric_chars('^%abc123[]')  ->  'abc123'\n",
    "remove_non_alphanumeric_chars('ABC123')  ->  'ABC123'\n",
    "```\n",
    "\n",
    "Not required, but **bonus points** for using a list comprehension somewhere in the solution."
   ]
  },
  {
   "cell_type": "code",
   "execution_count": null,
   "metadata": {},
   "outputs": [],
   "source": []
  },
  {
   "cell_type": "markdown",
   "metadata": {},
   "source": [
    "### Problem 2\n",
    "\n",
    "Create a function that takes a filename as an argument, reads the contents of a file, and **returns the unique count the unique words present in the file**. Assume there is no punctuation in these files, just words. e.g. the content of a file may look like:\n",
    "\n",
    "```\n",
    "apple banana cat\n",
    "apple banana cat dog\n",
    "```\n",
    "\n",
    "There are 4 unique words in this file, so your function should return 4.\n",
    "\n",
    "There are three test files in this directory you can use to confirm your function works as expected:\n",
    "\n",
    "```\n",
    "count_unique_words_in_file('test-file')  ->  4\n",
    "count_unique_words_in_file('test-file-2')  ->  5\n",
    "count_unique_words_in_file('test-file-3')  ->  3\n",
    "```"
   ]
  },
  {
   "cell_type": "code",
   "execution_count": null,
   "metadata": {},
   "outputs": [],
   "source": []
  },
  {
   "cell_type": "markdown",
   "metadata": {},
   "source": [
    "### Problem 3\n",
    "\n",
    "Write a function that takes in a variable number of integer arguments and **returns the median of the integers passed**.\n",
    "\n",
    "[The median](https://stattrek.com/statistics/dictionary.aspx?definition=median) is defined as:\n",
    "\n",
    "> a simple measure of central tendency. To find the median, we arrange the observations in order from smallest to largest value. If there is an odd number of observations, the median is the middle value. If there is an even number of observations, the median is the average of the two middle values.\n",
    "\n",
    "Examples:\n",
    "\n",
    "```\n"
   ]
  },
  {
   "cell_type": "code",
   "execution_count": null,
   "metadata": {},
   "outputs": [],
   "source": []
  },
  {
   "cell_type": "markdown",
   "metadata": {},
   "source": [
    "### Problem 4"
   ]
  },
  {
   "cell_type": "code",
   "execution_count": null,
   "metadata": {},
   "outputs": [],
   "source": []
  }
 ],
 "metadata": {
  "kernelspec": {
   "display_name": "Python 3",
   "language": "python",
   "name": "python3"
  },
  "language_info": {
   "codemirror_mode": {
    "name": "ipython",
    "version": 3
   },
   "file_extension": ".py",
   "mimetype": "text/x-python",
   "name": "python",
   "nbconvert_exporter": "python",
   "pygments_lexer": "ipython3",
   "version": "3.7.0"
  }
 },
 "nbformat": 4,
 "nbformat_minor": 2
}
