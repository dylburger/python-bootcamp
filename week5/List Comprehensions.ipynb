{
 "cells": [
  {
   "cell_type": "markdown",
   "metadata": {},
   "source": [
    "What is the difference between list comprehensions and for loops?"
   ]
  },
  {
   "cell_type": "code",
   "execution_count": null,
   "metadata": {},
   "outputs": [],
   "source": []
  },
  {
   "cell_type": "markdown",
   "metadata": {},
   "source": [
    "How can we write a statement that asks the user for their grocery store preference?"
   ]
  },
  {
   "cell_type": "code",
   "execution_count": null,
   "metadata": {},
   "outputs": [],
   "source": []
  },
  {
   "cell_type": "markdown",
   "metadata": {},
   "source": [
    "### Fill out the following functions with your partner:"
   ]
  },
  {
   "cell_type": "markdown",
   "metadata": {},
   "source": [
    "One of our partners is sending their inventory in a long string of items. Clean up the string to return a list with only the names of the products.\n",
    "\n",
    "Solve this with for loops and list comprehension. Try also using the [map](http://book.pythontips.com/en/latest/map_filter.html) method if you're familiar with functions and are feeling adventurous.\n"
   ]
  },
  {
   "cell_type": "code",
   "execution_count": 1,
   "metadata": {},
   "outputs": [
    {
     "name": "stdout",
     "output_type": "stream",
     "text": [
      "None\n"
     ]
    }
   ],
   "source": [
    "inventory = 'produce-apples,produce-banana,snacks-cheetos,frozen-pizza'\n",
    "\n",
    "def filter_products(inventory):\n",
    "    '''\n",
    "    INPUT: STRING\n",
    "    OUTPUT: LIST \n",
    "    Return a list with only the names of the products.\n",
    "    e.g. 'produce-apples,produce-banana,snacks-cheetos,frozen-pizza' =>\n",
    "    ['appleas','banana',cheetos','pizza']\n",
    "    '''\n",
    "    pass\n",
    "\n",
    "\n",
    "items = filter_products(inventory)\n",
    "print(items)"
   ]
  },
  {
   "cell_type": "code",
   "execution_count": 2,
   "metadata": {},
   "outputs": [],
   "source": [
    "def max_lists(list1, list2):\n",
    "    '''\n",
    "    INPUT: list, list\n",
    "    OUTPUT: list\n",
    "    list1 and list2 have the same length. Return a list which contains the\n",
    "    maximum element of each list for every index.\n",
    "    '''\n",
    "    pass\n",
    "\n",
    "list1,list2 = [1,5,19,15],[3,10,3,5]\n",
    "max_lists(list1,list2)"
   ]
  },
  {
   "cell_type": "code",
   "execution_count": 26,
   "metadata": {},
   "outputs": [
    {
     "data": {
      "text/plain": [
       "[1, 4]"
      ]
     },
     "execution_count": 26,
     "metadata": {},
     "output_type": "execute_result"
    }
   ],
   "source": [
    "def get_diagonal(mat):\n",
    "    '''\n",
    "    INPUT: 2 dimensional list\n",
    "    OUTPUT: list\n",
    "    Given a matrix encoded as a 2 dimensional python list, return a list\n",
    "    containing all the values in the diagonal starting at the index 0, 0.\n",
    "    E.g.\n",
    "    mat = [[1, 2], [3, 4], [5, 6]]\n",
    "    | 1  2 |\n",
    "    | 3  4 |\n",
    "    | 5  6 |\n",
    "    get_diagonal(mat) => [1, 4]\n",
    "    You may assume that the matrix is nonempty.\n",
    "    '''\n",
    "    return [mat[d1][d1] for d1 in range(min(len(mat[0]), len(mat)))]\n",
    "\n",
    "mat = [[1, 2], [3, 4], [5, 6]]\n",
    "get_diagonal(mat)"
   ]
  },
  {
   "cell_type": "code",
   "execution_count": 33,
   "metadata": {},
   "outputs": [
    {
     "data": {
      "text/plain": [
       "{'produce': ['apple', 'banana'], 'deli': ['ham', 'steak'], 'bakery': 'bread'}"
      ]
     },
     "execution_count": 33,
     "metadata": {},
     "output_type": "execute_result"
    }
   ],
   "source": [
    "def merge_dictionaries(d1, d2):\n",
    "    '''\n",
    "    INPUT: dictionary, dictionary\n",
    "    OUTPUT: dictionary\n",
    "    Return a new dictionary which contains all the keys from d1 and d2 with\n",
    "    their associated values. If a key is in both dictionaries, the value should\n",
    "    be a list of the two values.\n",
    "    e.g.\n",
    "    d1 = {'produce':'apple','deli':'ham'}\n",
    "    d2 = {'deli':'steak','bakery':'bread', 'produce':'banana'}\n",
    "    merge_dictionaries(d1, d2) => {'produce': ['apple', 'banana'], 'deli': ['ham', 'steak'], 'bakery': 'bread'}\n",
    "    '''\n",
    "    merged = d1.copy()\n",
    "    for k,v in d2.items():\n",
    "        if merged.get(k):\n",
    "            merged[k] = [merged[k],v]\n",
    "        else:\n",
    "            merged[k] = v\n",
    "    return merged\n",
    "\n",
    "d1 = {'produce':'apple','deli':'ham'}\n",
    "d2 = {'deli':'steak','bakery':'bread', 'produce':'banana'}\n",
    "merge_dictionaries(d1, d2)"
   ]
  }
 ],
 "metadata": {
  "kernelspec": {
   "display_name": "Python 3",
   "language": "python",
   "name": "python3"
  },
  "language_info": {
   "codemirror_mode": {
    "name": "ipython",
    "version": 3
   },
   "file_extension": ".py",
   "mimetype": "text/x-python",
   "name": "python",
   "nbconvert_exporter": "python",
   "pygments_lexer": "ipython3",
   "version": "3.7.0"
  }
 },
 "nbformat": 4,
 "nbformat_minor": 2
}
