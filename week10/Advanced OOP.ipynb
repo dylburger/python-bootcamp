{
 "cells": [
  {
   "cell_type": "markdown",
   "metadata": {},
   "source": [
    "### Card Games as an OOP problem\n",
    "The example we will be looking at today is creating card games. In this scenario, it's very helpful to have classes to represent a playing card and a deck of cards.\n",
    "\n",
    "Here is the syntax for creating a card class:"
   ]
  },
  {
   "cell_type": "code",
   "execution_count": 1,
   "metadata": {},
   "outputs": [],
   "source": [
    "class Card(object):\n",
    "    value_dict = {'2': 2, '3': 3, '4': 4, '5': 5, '6': 6, '7': 7,\n",
    "                  '8': 8, '9': 9, '10': 10, 'J': 10, 'Q': 10,\n",
    "                  'K': 10, 'A': 11}\n",
    "    \n",
    "    \n",
    "    def __init__(self, number, suit):\n",
    "        self.suit = suit\n",
    "        self.number = number\n",
    "        self.value = self.value_dict[self.number]\n",
    "        "
   ]
  },
  {
   "cell_type": "markdown",
   "metadata": {},
   "source": [
    "Here the suit and number are what we call instance variables. That means that they are variables that are specific to each instance of the class (each card that you create will have its own values for suit and number).\n",
    "\n",
    "The `__init__` function is the constructor. It is called when you run the following code:"
   ]
  },
  {
   "cell_type": "code",
   "execution_count": 2,
   "metadata": {},
   "outputs": [],
   "source": [
    "card = Card('5', 'C')"
   ]
  },
  {
   "cell_type": "markdown",
   "metadata": {},
   "source": [
    "Let's look at the deck class for an example where we also create methods."
   ]
  },
  {
   "cell_type": "code",
   "execution_count": 3,
   "metadata": {},
   "outputs": [],
   "source": [
    "import random\n",
    "\n",
    "class Deck(object):\n",
    "    def __init__(self):\n",
    "        self.cards = []\n",
    "        for num in ['2', '3', '4', '5', '6', '7', '8', '9', '10', 'J', 'Q', 'K', 'A']:\n",
    "            for suit in 'cdhs':\n",
    "                self.cards.append(Card(num, suit))\n",
    "\n",
    "    def shuffle(self):\n",
    "        random.shuffle(self.cards)\n",
    "\n",
    "    def draw_card(self):\n",
    "        if not self.isempty():\n",
    "            return self.cards.pop()\n",
    "\n",
    "    def add_cards(self, cards):\n",
    "        self.cards.extend(cards)\n",
    "\n",
    "    def isempty(self):\n",
    "        return self.cards == []"
   ]
  },
  {
   "cell_type": "code",
   "execution_count": 4,
   "metadata": {},
   "outputs": [],
   "source": [
    "deck = Deck()"
   ]
  },
  {
   "cell_type": "code",
   "execution_count": null,
   "metadata": {},
   "outputs": [],
   "source": [
    "print(deck.cards[0])"
   ]
  },
  {
   "cell_type": "code",
   "execution_count": null,
   "metadata": {},
   "outputs": [],
   "source": [
    "print(deck.draw_card())"
   ]
  },
  {
   "cell_type": "code",
   "execution_count": null,
   "metadata": {},
   "outputs": [],
   "source": [
    "deck.shuffle()"
   ]
  },
  {
   "cell_type": "code",
   "execution_count": null,
   "metadata": {},
   "outputs": [],
   "source": [
    "print(deck.draw_card())"
   ]
  },
  {
   "cell_type": "code",
   "execution_count": null,
   "metadata": {
    "scrolled": true
   },
   "outputs": [],
   "source": [
    "deck.isempty()"
   ]
  },
  {
   "cell_type": "markdown",
   "metadata": {},
   "source": [
    "(Note that with this implementation, the cards go in order until you shuffle the deck.)"
   ]
  },
  {
   "cell_type": "markdown",
   "metadata": {},
   "source": [
    "### Magic methods"
   ]
  },
  {
   "cell_type": "markdown",
   "metadata": {},
   "source": [
    "#### Length"
   ]
  },
  {
   "cell_type": "markdown",
   "metadata": {},
   "source": [
    "In python, there are what we call magic methods.\n",
    "\n",
    "Length function\n",
    "Notice how you can use the len function on most built-in types to get the length (length of a list, number of items in a dictionary, length of a string). If you'd like to be able to do the same with your own class, you can implement the `__len__` method.\n",
    "\n",
    "Add a method to the Deck class that enables you to use len(deck) and it will give you the number of cards in your deck."
   ]
  },
  {
   "cell_type": "markdown",
   "metadata": {},
   "source": [
    "```def __len__(self):\n",
    "    return len(self.cards)```"
   ]
  },
  {
   "cell_type": "markdown",
   "metadata": {},
   "source": [
    "#### String representation"
   ]
  },
  {
   "cell_type": "markdown",
   "metadata": {},
   "source": [
    "If you would like to be able to print out your object in a human-readable form. You need to create a method which will give the string representation. \n",
    "\n",
    "You can of course modify the output however you'd like, putting a space or symbol between the number and suit"
   ]
  },
  {
   "cell_type": "code",
   "execution_count": 10,
   "metadata": {},
   "outputs": [],
   "source": [
    "card = Card('A', 'd')"
   ]
  },
  {
   "cell_type": "code",
   "execution_count": 11,
   "metadata": {
    "scrolled": true
   },
   "outputs": [
    {
     "name": "stdout",
     "output_type": "stream",
     "text": [
      "<__main__.Card object at 0x10337d358>\n"
     ]
    }
   ],
   "source": [
    "print(card)"
   ]
  },
  {
   "cell_type": "code",
   "execution_count": null,
   "metadata": {},
   "outputs": [],
   "source": []
  },
  {
   "cell_type": "code",
   "execution_count": 44,
   "metadata": {},
   "outputs": [],
   "source": [
    "card = Card('A', 'd')"
   ]
  },
  {
   "cell_type": "code",
   "execution_count": 45,
   "metadata": {
    "scrolled": true
   },
   "outputs": [
    {
     "name": "stdout",
     "output_type": "stream",
     "text": [
      "Ad\n"
     ]
    }
   ],
   "source": [
    "print(card)"
   ]
  },
  {
   "cell_type": "markdown",
   "metadata": {},
   "source": [
    "There is also a magic function called `__repr__` look up the difference between that and `__str__` and explain it to your partner."
   ]
  },
  {
   "cell_type": "markdown",
   "metadata": {},
   "source": [
    "#### Comprarisons\n",
    "\n",
    "You also may want to be able to compare two cards to see which is larger or if they have the same value. You can get this functionality by implementing the 'cmp' function.\n",
    "\n",
    "Add a compare method that allows you to comprare two cards to each other. \n",
    "\n",
    "Hint: look for more [magic](https://www.python.org/dev/peps/pep-0207/) methods."
   ]
  },
  {
   "cell_type": "code",
   "execution_count": 40,
   "metadata": {},
   "outputs": [],
   "source": [
    "class Card(object):\n",
    "    value_dict = {'2': 2, '3': 3, '4': 4, '5': 5, '6': 6, '7': 7,\n",
    "                  '8': 8, '9': 9, '10': 10, 'J': 10, 'Q': 10,\n",
    "                  'K': 10, 'A': 11}\n",
    "    \n",
    "    \n",
    "    def __init__(self, number, suit):\n",
    "        self.suit = suit\n",
    "        self.number = number\n",
    "        self.value = self.value_dict[self.number]\n",
    "        \n",
    "    def __lt__(self, other):\n",
    "        return self.value_dict[self.number] < self.value_dict[other.number]\n",
    "    \n",
    "    def __gt__(self, other):\n",
    "        return self.value_dict[self.number] > self.value_dict[other.number]\n",
    "\n",
    "    def __eq__(self, other):\n",
    "        return self.value_dict[self.number] == self.value_dict[other.number]\n"
   ]
  },
  {
   "cell_type": "code",
   "execution_count": 37,
   "metadata": {},
   "outputs": [],
   "source": [
    "card1 = Card('5', 'c')\n",
    "card2 = Card('7', 'd')\n",
    "card3 = Card('7', 'h')"
   ]
  },
  {
   "cell_type": "code",
   "execution_count": 38,
   "metadata": {},
   "outputs": [
    {
     "data": {
      "text/plain": [
       "False"
      ]
     },
     "execution_count": 38,
     "metadata": {},
     "output_type": "execute_result"
    }
   ],
   "source": [
    "card1 > card2"
   ]
  },
  {
   "cell_type": "code",
   "execution_count": 39,
   "metadata": {},
   "outputs": [
    {
     "data": {
      "text/plain": [
       "True"
      ]
     },
     "execution_count": 39,
     "metadata": {},
     "output_type": "execute_result"
    }
   ],
   "source": [
    "card2 == card3"
   ]
  },
  {
   "cell_type": "markdown",
   "metadata": {},
   "source": [
    "### How to structure your classes\n",
    "The hardest part of Object Oriented Programming is figuring out how to structure your classes and what methods you need.\n",
    "\n",
    "The general rules of thumb are:\n",
    "\n",
    "- nouns should become classes\n",
    "- verbs should become methods"
   ]
  }
 ],
 "metadata": {
  "kernelspec": {
   "display_name": "Python 3",
   "language": "python",
   "name": "python3"
  },
  "language_info": {
   "codemirror_mode": {
    "name": "ipython",
    "version": 3
   },
   "file_extension": ".py",
   "mimetype": "text/x-python",
   "name": "python",
   "nbconvert_exporter": "python",
   "pygments_lexer": "ipython3",
   "version": "3.7.0"
  }
 },
 "nbformat": 4,
 "nbformat_minor": 2
}
