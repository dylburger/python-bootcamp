{
 "cells": [
  {
   "cell_type": "code",
   "execution_count": 1,
   "metadata": {},
   "outputs": [],
   "source": [
    "import random\n",
    "from collections import defaultdict"
   ]
  },
  {
   "cell_type": "markdown",
   "metadata": {},
   "source": [
    "### Example: War Card Game\n",
    "We'll be implementing the children's card game [war](https://en.wikipedia.org/wiki/War_(card_game)).\n",
    "\n",
    "\n",
    "If you're unfamiliar with the game, read the link above. It is a complete game of chance, so you will never have to make a decision."
   ]
  },
  {
   "cell_type": "markdown",
   "metadata": {},
   "source": [
    "### Classes\n",
    "We've already created classes for a card and a deck.\n",
    "\n",
    "The other classes we will need are:\n",
    "\n",
    "- player\n",
    "- game"
   ]
  },
  {
   "cell_type": "markdown",
   "metadata": {},
   "source": [
    "#### The player class\n",
    "Let's look at the player class. First, what instance variables does it need? What does a player need to keep track of?\n",
    "\n",
    "- hand: a list of cards in the player's current deck\n",
    "- discard: a list of cards in the player's discard pile\n",
    "- name: the player's name (not essential)\n",
    "\n",
    "And what methods does the player class need?\n",
    "\n",
    "- receive_card\n",
    "- play_card"
   ]
  },
  {
   "cell_type": "code",
   "execution_count": 2,
   "metadata": {},
   "outputs": [],
   "source": [
    "class Player(object):\n",
    "    pass"
   ]
  },
  {
   "cell_type": "markdown",
   "metadata": {},
   "source": [
    "#### The game class\n",
    "These are the important instance variables:\n",
    "\n",
    "- player1 and player2 (two instances of the Player class)\n",
    "- pot: the cards that are currently in play (they will be won by one of the two players at the end of the round)\n",
    "- winner: the player that has won, which will be None until the end of the game (this is not the only way to keep track of this information)\n",
    "\n",
    "These are the important methods:\n",
    "\n",
    "- deal: gives each player their starting decks\n",
    "- play_round: goes through one round of the game (each player plays a card, highest card wins. If they tie, each player plays 3 cards and then they try again.)\n",
    "- play_game: starts the game and calls play_round repeatedly until one player gets all the cards and is declared the winner.\n"
   ]
  },
  {
   "cell_type": "markdown",
   "metadata": {},
   "source": [
    "__Note: You'll need the Deck and Player classes__"
   ]
  },
  {
   "cell_type": "code",
   "execution_count": 3,
   "metadata": {},
   "outputs": [],
   "source": [
    "class War(object):\n",
    "    pass"
   ]
  },
  {
   "cell_type": "code",
   "execution_count": null,
   "metadata": {},
   "outputs": [],
   "source": []
  }
 ],
 "metadata": {
  "kernelspec": {
   "display_name": "Python 3",
   "language": "python",
   "name": "python3"
  },
  "language_info": {
   "codemirror_mode": {
    "name": "ipython",
    "version": 3
   },
   "file_extension": ".py",
   "mimetype": "text/x-python",
   "name": "python",
   "nbconvert_exporter": "python",
   "pygments_lexer": "ipython3",
   "version": "3.7.0"
  }
 },
 "nbformat": 4,
 "nbformat_minor": 2
}
