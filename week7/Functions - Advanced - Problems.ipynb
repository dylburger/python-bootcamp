{
 "cells": [
  {
   "cell_type": "markdown",
   "metadata": {},
   "source": [
    "### Problem 1\n",
    "\n",
    "Your goal is to create _two_ functions that each produce the same output using different techniques.\n",
    "\n",
    "Each function should take any number of integers, squaring each _even_ number only, and returning a list of those squared numbers.\n",
    "\n",
    "Create the two functions using - at a minimum - these two techniques:\n",
    "\n",
    "1. Use list comprehensions\n",
    "2. Use map, filter and lambda expressions\n",
    "\n",
    "When you're done, talk over the costs and benefits of using one approach or the other with your partner.\n",
    "\n",
    "Some example input and output:\n",
    "\n",
    "```\n",
    "square_even_numbers_list_comprehension(1, 2, 3, 4)  ->  [4, 16]\n",
    "square_even_numbers_map_filter(1, 2, 3, 4)  ->  [4, 16]\n",
    "square_even_numbers_list_comprehension(0, 1, 3)  ->  [0]\n",
    "```"
   ]
  },
  {
   "cell_type": "code",
   "execution_count": null,
   "metadata": {},
   "outputs": [],
   "source": []
  },
  {
   "cell_type": "markdown",
   "metadata": {},
   "source": [
    "### Problem 2\n",
    "\n",
    "Using the `LEGB` rule of variable lookups, create a set of Python code that you think will _fool_ your partner into guessing the wrong value of a variable once the code is done. For example, I'm going to create a function that uses some tricky rules to modify the value of a given variable:"
   ]
  },
  {
   "cell_type": "code",
   "execution_count": 20,
   "metadata": {},
   "outputs": [
    {
     "name": "stdout",
     "output_type": "stream",
     "text": [
      "x: 10, y: 50\n"
     ]
    }
   ],
   "source": [
    "x = 10\n",
    "y = 10\n",
    "\n",
    "def modify_vals():\n",
    "    global y\n",
    "    y = 20\n",
    "    x = 50\n",
    "    def swap_values(x):\n",
    "        global y\n",
    "        tmp = y\n",
    "        y = x\n",
    "        x = tmp\n",
    "    swap_values(x)\n",
    "        \n",
    "modify_vals()\n",
    "print(f\"x: {x}, y: {y}\")"
   ]
  },
  {
   "cell_type": "markdown",
   "metadata": {},
   "source": [
    "### Problem 3\n",
    "\n",
    "When building a larger program, it's common for some general use cases to arise across functions, e.g.\n",
    "\n",
    "* I want to log the arguments passed to my functions for troubleshooting\n",
    "* I want to cache the results of expensive operations (e.g. database queries) so that I don't have to make these more than once\n",
    "* etc.\n",
    "\n",
    "To solve these use cases, it's common to create a function that accepts a function as an argument. The \"inner\" function does exactly what it's supposed to do, and the outer function performs one of the tasks above (logging, caching, etc.).\n",
    "\n",
    "**In this problem, you'll be asked to create a `logger` function that prints all of the arguments passed to an inner function**. For example, let's take a function `average`:\n",
    "\n",
    "```python\n",
    "def average(*args):\n",
    "    return sum(args) / len(args)\n",
    "```\n",
    "\n",
    "\n",
    "On its own, `average` just returns the average of the numbers passed to it, e.g.\n",
    "\n",
    "```python\n",
    "average(1, 2, 3)\n",
    "2.0\n",
    "```\n",
    "\n",
    "\n",
    "But we want to create a `logger` function that prints each of the items in the `*args` tuple:\n",
    "\n",
    "```python\n",
    "average = logger(average)\n",
    "average(1, 2, 3)\n",
    "\n",
    "arg: 1\n",
    "arg: 2\n",
    "arg: 3\n",
    "\n",
    "2.0  # return value of function\n",
    "```\n",
    "\n",
    "Here, the `average` function still returns `2.0`, but _also_ prints each argument, which we can use for debugging purposes later.\n",
    "\n",
    "Having defined our `logger` function, we _redefine_ our `average` function to be the `average` function **wrapped in the logger function**. Running `average` thus 1.) runs the `logger` function, which simply takes the arguments passed to `average` and prints them, and 2.) runs the original, `average` function.\n",
    "\n",
    "If this sounds abstract, it is! But it's an incredibly powerful technique to learn. Read up on **decorators** for some hints on how to create this `logger` function. Reading about decorators will also reveal an alternate syntax for using functions like `logger` to accomplish what we did above."
   ]
  },
  {
   "cell_type": "code",
   "execution_count": null,
   "metadata": {},
   "outputs": [],
   "source": []
  }
 ],
 "metadata": {
  "kernelspec": {
   "display_name": "Python 3",
   "language": "python",
   "name": "python3"
  },
  "language_info": {
   "codemirror_mode": {
    "name": "ipython",
    "version": 3
   },
   "file_extension": ".py",
   "mimetype": "text/x-python",
   "name": "python",
   "nbconvert_exporter": "python",
   "pygments_lexer": "ipython3",
   "version": "3.7.0"
  }
 },
 "nbformat": 4,
 "nbformat_minor": 2
}
