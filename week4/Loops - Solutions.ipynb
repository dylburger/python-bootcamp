{
 "cells": [
  {
   "cell_type": "markdown",
   "metadata": {},
   "source": [
    "What are some examples of iterable objects?"
   ]
  },
  {
   "cell_type": "code",
   "execution_count": null,
   "metadata": {},
   "outputs": [],
   "source": [
    "mylist = [1,2,3,4,5]\n",
    "mystr = 'hello world'\n",
    "mydict = {'a': 2, 'b': 4, 'c': 2}\n",
    "mytup = (1,2,3,4)"
   ]
  },
  {
   "cell_type": "markdown",
   "metadata": {},
   "source": [
    "What is the difference between a `for` loop and a `while` loop?"
   ]
  },
  {
   "cell_type": "markdown",
   "metadata": {},
   "source": [
    "A `for` loop needs an iterable, a `while` loop performs an action as long as a condition holds true"
   ]
  },
  {
   "cell_type": "markdown",
   "metadata": {},
   "source": [
    "How can you achieve the same with a `while` loop?"
   ]
  },
  {
   "cell_type": "code",
   "execution_count": 5,
   "metadata": {},
   "outputs": [
    {
     "name": "stdout",
     "output_type": "stream",
     "text": [
      "1\n",
      "2\n",
      "3\n",
      "1\n",
      "2\n",
      "3\n"
     ]
    }
   ],
   "source": [
    "mylist = [1,2,3]\n",
    "i = 0 \n",
    "for num in mylist:\n",
    "    print(num)\n",
    "\n",
    "while mylist:\n",
    "    print(mylist[i])\n",
    "    i += 1\n",
    "    if i > len(mylist)-1:\n",
    "        mylist = []"
   ]
  },
  {
   "cell_type": "markdown",
   "metadata": {},
   "source": [
    "Fill out the following functions with your partner:"
   ]
  },
  {
   "cell_type": "code",
   "execution_count": 36,
   "metadata": {},
   "outputs": [
    {
     "data": {
      "text/plain": [
       "{'I': 1, 'n': 1, 's': 1, 't': 2, 'a': 2, 'c': 1, 'r': 1}"
      ]
     },
     "execution_count": 36,
     "metadata": {},
     "output_type": "execute_result"
    }
   ],
   "source": [
    "def count_characters(string):\n",
    "    '''\n",
    "    INPUT: STRING\n",
    "    OUTPUT: DICT (with counts of each character in input string)\n",
    "    Return a dictionary which contains\n",
    "    a count of the number of times each character appears in the string.\n",
    "    Characters which with a count of 0 should not be included in the\n",
    "    output dictionary.\n",
    "    '''\n",
    "    counts = {}\n",
    "    for char in string:\n",
    "        if char in counts:\n",
    "            counts[char] += 1\n",
    "        else:\n",
    "            counts[char] = 1\n",
    "    return counts\n",
    "\n",
    "def count_characters(string):\n",
    "    '''\n",
    "    INPUT: STRING\n",
    "    OUTPUT: DICT (with counts of each character in input string)\n",
    "    Return a dictionary which contains\n",
    "    a count of the number of times each character appears in the string.\n",
    "    Characters which with a count of 0 should not be included in the\n",
    "    output dictionary.\n",
    "    '''\n",
    "    counts = {}\n",
    "    for char in string:\n",
    "        counts[char] = counts.get(char,0) + 1\n",
    "    return counts\n",
    "\n",
    "count_characters('Instacart')"
   ]
  },
  {
   "cell_type": "code",
   "execution_count": 48,
   "metadata": {},
   "outputs": [
    {
     "data": {
      "text/plain": [
       "{'snacks': {'cheetos'}, 'produce': {'apple', 'banana'}}"
      ]
     },
     "execution_count": 48,
     "metadata": {},
     "output_type": "execute_result"
    }
   ],
   "source": [
    "def invert_dictionary(d):\n",
    "    '''\n",
    "    INPUT: DICT\n",
    "    OUTPUT: DICT (of sets of input keys indexing the same input values\n",
    "                  indexed by the input values)\n",
    "    Given a dictionary d, return a new dictionary with d's values\n",
    "    as keys and the value for a given key being\n",
    "    the set of d's keys which shared the same value.\n",
    "    e.g. {'a': 2, 'b': 4, 'c': 2} => {2: {'a', 'c'}, 4: {'b'}}\n",
    "    '''\n",
    "    inverted = {}\n",
    "    for key,val in d.items():\n",
    "        if val in inverted:\n",
    "            inverted[val].add(key)\n",
    "        else:\n",
    "            inverted[val] = set(key)\n",
    "    return inverted     \n",
    "\n",
    "def invert_dictionary(d):\n",
    "    '''\n",
    "    INPUT: DICT\n",
    "    OUTPUT: DICT (of sets of input keys indexing the same input values\n",
    "                  indexed by the input values)\n",
    "    Given a dictionary d, return a new dictionary with d's values\n",
    "    as keys and the value for a given key being\n",
    "    the set of d's keys which shared the same value.\n",
    "    e.g. {'a': 2, 'b': 4, 'c': 2} => {2: {'a', 'c'}, 4: {'b'}}\n",
    "    '''\n",
    "    inverted = {}\n",
    "    for key,val in d.items():\n",
    "        if val not in inverted:\n",
    "            inverted[val] = set()\n",
    "        inverted[val].add(key)\n",
    "            \n",
    "    return inverted     \n",
    "\n",
    "invert_dictionary({'cheetos': 'snacks', 'apple': 'produce', 'banana': 'produce'})"
   ]
  },
  {
   "cell_type": "code",
   "execution_count": 42,
   "metadata": {},
   "outputs": [
    {
     "name": "stdout",
     "output_type": "stream",
     "text": [
      "(3, 10, 44)\n"
     ]
    },
    {
     "data": {
      "text/plain": [
       "(25, 241, 1244)"
      ]
     },
     "execution_count": 42,
     "metadata": {},
     "output_type": "execute_result"
    }
   ],
   "source": [
    "def word_count(filename):\n",
    "    '''\n",
    "    INPUT: STRING\n",
    "    OUTPUT: INT, INT, INT (a tuple with line, word,\n",
    "                           and character count of named INPUT file)\n",
    "    The INPUT filename is the name of a text file.\n",
    "    The OUTPUT is a tuple containting (in order)\n",
    "    the following stats for the text file:\n",
    "      1. number of lines\n",
    "      2. number of words (broken by whitespace)\n",
    "      3. number of characters\n",
    "    '''\n",
    "    with open(filename) as f:\n",
    "        n_lines, n_words, n_chars = 0,0,0\n",
    "        for line in f:\n",
    "            n_lines += 1\n",
    "            n_words += len(line.split(' '))\n",
    "            n_chars += len(line)\n",
    "    return (n_lines,n_words,n_chars)\n",
    "\n",
    "\n",
    "print(word_count('small_test.txt'))\n",
    "word_count('alice.txt')"
   ]
  },
  {
   "cell_type": "code",
   "execution_count": 46,
   "metadata": {},
   "outputs": [
    {
     "data": {
      "text/plain": [
       "[[18, 26, 14], [34, 38, 32], [10, 5, 0]]"
      ]
     },
     "execution_count": 46,
     "metadata": {},
     "output_type": "execute_result"
    }
   ],
   "source": [
    "def matrix_multiplication(A, B):\n",
    "    '''\n",
    "    INPUT: LIST (of length n) OF LIST (of length n) OF INTEGERS,\n",
    "            LIST (of length n) OF LIST (of length n) OF INTEGERS\n",
    "    OUTPUT: LIST OF LIST OF INTEGERS\n",
    "            (storing the product of a matrix multiplication operation)\n",
    "    Return the matrix which is the product of matrix A and matrix B\n",
    "    where A and B will be (a) integer valued (b) square matrices\n",
    "    (c) of size n-by-n (d) encoded as lists of lists,  e.g.\n",
    "    A = [[2, 3, 4], [6, 4, 2], [-1, 2, 0]] corresponds to the matrix\n",
    "    | 2  3  4 |\n",
    "    | 6  4  2 |\n",
    "    |-1  2  0 |\n",
    "    \n",
    "    You may not use numpy. Write your solution in straight python.\n",
    "    '''\n",
    "    size = len(A)\n",
    "    res = []\n",
    "    for i in range(size):\n",
    "        row = []\n",
    "        for j in range(size):\n",
    "            total = 0\n",
    "            for k in range(size):\n",
    "                total += A[i][k] * B[k][j]\n",
    "            row.append(total)\n",
    "        res.append(row)\n",
    "    return res\n",
    "\n",
    "matrix_multiplication([[2, 3, 4], [6, 4, 2], [-1, 2, 0]],[[2, 3, 4], [6, 4, 2], [-1, 2, 0]])"
   ]
  },
  {
   "cell_type": "code",
   "execution_count": 35,
   "metadata": {},
   "outputs": [
    {
     "data": {
      "text/plain": [
       "array([[18, 26, 14],\n",
       "       [34, 38, 32],\n",
       "       [10,  5,  0]])"
      ]
     },
     "execution_count": 35,
     "metadata": {},
     "output_type": "execute_result"
    }
   ],
   "source": [
    "import numpy as np\n",
    "a = np.array([[2, 3, 4], [6, 4, 2], [-1, 2, 0]])\n",
    "b = np.array([[2, 3, 4], [6, 4, 2], [-1, 2, 0]])\n",
    "np.dot(a,b)"
   ]
  }
 ],
 "metadata": {
  "kernelspec": {
   "display_name": "Python 3",
   "language": "python",
   "name": "python3"
  },
  "language_info": {
   "codemirror_mode": {
    "name": "ipython",
    "version": 3
   },
   "file_extension": ".py",
   "mimetype": "text/x-python",
   "name": "python",
   "nbconvert_exporter": "python",
   "pygments_lexer": "ipython3",
   "version": "3.7.0"
  }
 },
 "nbformat": 4,
 "nbformat_minor": 2
}
