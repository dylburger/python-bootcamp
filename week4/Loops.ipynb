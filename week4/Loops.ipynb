{
 "cells": [
  {
   "cell_type": "markdown",
   "metadata": {},
   "source": [
    "What are some examples of iterable objects?"
   ]
  },
  {
   "cell_type": "code",
   "execution_count": null,
   "metadata": {},
   "outputs": [],
   "source": []
  },
  {
   "cell_type": "markdown",
   "metadata": {},
   "source": [
    "What is the difference between a `for` loop and a `while` loop?"
   ]
  },
  {
   "cell_type": "code",
   "execution_count": null,
   "metadata": {},
   "outputs": [],
   "source": []
  },
  {
   "cell_type": "markdown",
   "metadata": {},
   "source": [
    "How can you achieve the same with a `while` loop?"
   ]
  },
  {
   "cell_type": "code",
   "execution_count": 4,
   "metadata": {},
   "outputs": [
    {
     "name": "stdout",
     "output_type": "stream",
     "text": [
      "1\n",
      "2\n",
      "3\n"
     ]
    }
   ],
   "source": [
    "mylist = [1,2,3]\n",
    "\n",
    "for num in mylist:\n",
    "    print(num)"
   ]
  },
  {
   "cell_type": "markdown",
   "metadata": {},
   "source": [
    "Fill out the following functions with your partner:"
   ]
  },
  {
   "cell_type": "code",
   "execution_count": 5,
   "metadata": {},
   "outputs": [],
   "source": [
    "def count_characters(string):\n",
    "    '''\n",
    "    INPUT: STRING\n",
    "    OUTPUT: DICT (with counts of each character in input string)\n",
    "    Return a dictionary which contains\n",
    "    a count of the number of times each character appears in the string.\n",
    "    Characters which with a count of 0 should not be included in the\n",
    "    output dictionary.\n",
    "    '''\n",
    "    \n",
    "    pass\n",
    "\n",
    "count_characters('Instacart')"
   ]
  },
  {
   "cell_type": "code",
   "execution_count": 6,
   "metadata": {},
   "outputs": [],
   "source": [
    "def invert_dictionary(d):\n",
    "    '''\n",
    "    INPUT: DICT\n",
    "    OUTPUT: DICT (of sets of input keys indexing the same input values\n",
    "                  indexed by the input values)\n",
    "    Given a dictionary d, return a new dictionary with d's values\n",
    "    as keys and the value for a given key being\n",
    "    the set of d's keys which shared the same value.\n",
    "    e.g. {'a': 2, 'b': 4, 'c': 2} => {2: {'a', 'c'}, 4: {'b'}}\n",
    "    '''\n",
    "  \n",
    "    pass\n",
    "\n",
    "\n",
    "invert_dictionary({'cheetos': 'snacks', 'apple': 'produce', 'banana': 'produce'})"
   ]
  },
  {
   "cell_type": "code",
   "execution_count": 7,
   "metadata": {},
   "outputs": [
    {
     "name": "stdout",
     "output_type": "stream",
     "text": [
      "None\n"
     ]
    }
   ],
   "source": [
    "def word_count(filename):\n",
    "    '''\n",
    "    INPUT: STRING\n",
    "    OUTPUT: INT, INT, INT (a tuple with line, word,\n",
    "                           and character count of named INPUT file)\n",
    "    The INPUT filename is the name of a text file.\n",
    "    The OUTPUT is a tuple containting (in order)\n",
    "    the following stats for the text file:\n",
    "      1. number of lines\n",
    "      2. number of words (broken by whitespace)\n",
    "      3. number of characters\n",
    "    '''\n",
    "    \n",
    "    pass\n",
    "\n",
    "\n",
    "print(word_count('small_test.txt'), word_count('alice.txt'))"
   ]
  },
  {
   "cell_type": "code",
   "execution_count": 8,
   "metadata": {},
   "outputs": [],
   "source": [
    "def matrix_multiplication(A, B):\n",
    "    '''\n",
    "    INPUT: LIST (of length n) OF LIST (of length n) OF INTEGERS,\n",
    "            LIST (of length n) OF LIST (of length n) OF INTEGERS\n",
    "    OUTPUT: LIST OF LIST OF INTEGERS\n",
    "            (storing the product of a matrix multiplication operation)\n",
    "    Return the matrix which is the product of matrix A and matrix B\n",
    "    where A and B will be (a) integer valued (b) square matrices\n",
    "    (c) of size n-by-n (d) encoded as lists of lists,  e.g.\n",
    "    A = [[2, 3, 4], [6, 4, 2], [-1, 2, 0]] corresponds to the matrix\n",
    "    | 2  3  4 |\n",
    "    | 6  4  2 |\n",
    "    |-1  2  0 |\n",
    "    \n",
    "    You may not use numpy. Write your solution in straight python.\n",
    "    '''\n",
    "    pass\n",
    "\n",
    "matrix_multiplication([[2, 3, 4], [6, 4, 2], [-1, 2, 0]],[[2, 3, 4], [6, 4, 2], [-1, 2, 0]])"
   ]
  },
  {
   "cell_type": "code",
   "execution_count": 9,
   "metadata": {},
   "outputs": [
    {
     "data": {
      "text/plain": [
       "array([[18, 26, 14],\n",
       "       [34, 38, 32],\n",
       "       [10,  5,  0]])"
      ]
     },
     "execution_count": 9,
     "metadata": {},
     "output_type": "execute_result"
    }
   ],
   "source": [
    "import numpy as np\n",
    "A = np.array([[2, 3, 4], [6, 4, 2], [-1, 2, 0]])\n",
    "B = np.array([[2, 3, 4], [6, 4, 2], [-1, 2, 0]])\n",
    "np.dot(A,B)"
   ]
  }
 ],
 "metadata": {
  "kernelspec": {
   "display_name": "Python 3",
   "language": "python",
   "name": "python3"
  },
  "language_info": {
   "codemirror_mode": {
    "name": "ipython",
    "version": 3
   },
   "file_extension": ".py",
   "mimetype": "text/x-python",
   "name": "python",
   "nbconvert_exporter": "python",
   "pygments_lexer": "ipython3",
   "version": "3.7.0"
  }
 },
 "nbformat": 4,
 "nbformat_minor": 2
}
