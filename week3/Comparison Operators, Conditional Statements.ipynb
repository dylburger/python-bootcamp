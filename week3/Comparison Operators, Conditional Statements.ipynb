{
 "cells": [
  {
   "cell_type": "markdown",
   "metadata": {},
   "source": [
    "What is this going to return?"
   ]
  },
  {
   "cell_type": "code",
   "execution_count": null,
   "metadata": {},
   "outputs": [],
   "source": [
    "2 == '2'"
   ]
  },
  {
   "cell_type": "markdown",
   "metadata": {},
   "source": [
    "What is this going to return?"
   ]
  },
  {
   "cell_type": "code",
   "execution_count": null,
   "metadata": {},
   "outputs": [],
   "source": [
    "2 != 2"
   ]
  },
  {
   "cell_type": "markdown",
   "metadata": {},
   "source": [
    "What is this going to return?"
   ]
  },
  {
   "cell_type": "code",
   "execution_count": null,
   "metadata": {},
   "outputs": [],
   "source": [
    "0.1 + 0.2 - 0.3 == 0"
   ]
  },
  {
   "cell_type": "markdown",
   "metadata": {},
   "source": [
    "What is this going to return?"
   ]
  },
  {
   "cell_type": "code",
   "execution_count": null,
   "metadata": {},
   "outputs": [],
   "source": [
    "[1, 2, 4] > [1, 2, 3]"
   ]
  },
  {
   "cell_type": "markdown",
   "metadata": {},
   "source": [
    "See [this note in the Python docs](https://docs.python.org/3/tutorial/datastructures.html#comparing-sequences-and-other-types) for more info on why this is the case.\n",
    "\n",
    "See [this reference](https://docs.python.org/3/reference/expressions.html#comparisons) to learn more about comparisons than you ever wanted to know!"
   ]
  },
  {
   "cell_type": "markdown",
   "metadata": {},
   "source": [
    "What's going on here?"
   ]
  },
  {
   "cell_type": "code",
   "execution_count": 20,
   "metadata": {},
   "outputs": [
    {
     "name": "stdout",
     "output_type": "stream",
     "text": [
      "True\n",
      "False\n"
     ]
    }
   ],
   "source": [
    "a = [1, 2, 3]\n",
    "b = [1, 2, 3]\n",
    "print(a == b)\n",
    "print(a is b)"
   ]
  },
  {
   "cell_type": "markdown",
   "metadata": {},
   "source": [
    "See [this reference](https://dbader.org/blog/difference-between-is-and-equals-in-python) for more information about `==` vs. `is`.\n",
    "\n",
    "I rarely use `is`, but see it in other people's code, so it's good to know about."
   ]
  },
  {
   "cell_type": "markdown",
   "metadata": {},
   "source": [
    "What does this return?"
   ]
  },
  {
   "cell_type": "code",
   "execution_count": null,
   "metadata": {},
   "outputs": [],
   "source": [
    "1 < 2 > 3"
   ]
  },
  {
   "cell_type": "markdown",
   "metadata": {},
   "source": [
    "This code is confusing and I never use this set of chained comparison. **Remember**: code is meant to be read by humans."
   ]
  },
  {
   "cell_type": "markdown",
   "metadata": {},
   "source": [
    "What's going on in the three cells below?"
   ]
  },
  {
   "cell_type": "code",
   "execution_count": 26,
   "metadata": {},
   "outputs": [
    {
     "ename": "NameError",
     "evalue": "name 'foo' is not defined",
     "output_type": "error",
     "traceback": [
      "\u001b[0;31m---------------------------------------------------------------------------\u001b[0m",
      "\u001b[0;31mNameError\u001b[0m                                 Traceback (most recent call last)",
      "\u001b[0;32m<ipython-input-26-44501490fb34>\u001b[0m in \u001b[0;36m<module>\u001b[0;34m()\u001b[0m\n\u001b[0;32m----> 1\u001b[0;31m \u001b[0mfoo\u001b[0m \u001b[0;34m<\u001b[0m \u001b[0mblah\u001b[0m\u001b[0;34m\u001b[0m\u001b[0m\n\u001b[0m",
      "\u001b[0;31mNameError\u001b[0m: name 'foo' is not defined"
     ]
    }
   ],
   "source": [
    "foo < blah"
   ]
  },
  {
   "cell_type": "code",
   "execution_count": 27,
   "metadata": {},
   "outputs": [
    {
     "data": {
      "text/plain": [
       "False"
      ]
     },
     "execution_count": 27,
     "metadata": {},
     "output_type": "execute_result"
    }
   ],
   "source": [
    "2 < 1 and foo < blah"
   ]
  },
  {
   "cell_type": "code",
   "execution_count": 30,
   "metadata": {},
   "outputs": [
    {
     "data": {
      "text/plain": [
       "True"
      ]
     },
     "execution_count": 30,
     "metadata": {},
     "output_type": "execute_result"
    }
   ],
   "source": [
    "2 > 1 or foo < blah"
   ]
  },
  {
   "cell_type": "markdown",
   "metadata": {},
   "source": [
    "See the docs on [short circuiting](https://docs.python.org/3/library/stdtypes.html#boolean-operations-and-or-not) operators."
   ]
  },
  {
   "cell_type": "markdown",
   "metadata": {},
   "source": [
    "What's required for an `and` statement to return `True`? What's required for an `or` statement to return `True`?"
   ]
  },
  {
   "cell_type": "markdown",
   "metadata": {},
   "source": [
    "Here's an example I took from code that I just wrote here at Instacart, which highlights how we might use the `not` operator (this code will not run here in the Jupyter notebook, FYI):"
   ]
  },
  {
   "cell_type": "code",
   "execution_count": null,
   "metadata": {},
   "outputs": [],
   "source": [
    "success, err = slack_client.send_message(\"Hello\", \"#python-bootcamp\")\n",
    "if not success:\n",
    "    print(\"Error when sending Slack message: {}\".format(err))"
   ]
  },
  {
   "cell_type": "markdown",
   "metadata": {},
   "source": [
    "What will `not a` return in the below cell?"
   ]
  },
  {
   "cell_type": "code",
   "execution_count": null,
   "metadata": {},
   "outputs": [],
   "source": [
    "a = 0\n",
    "not a"
   ]
  },
  {
   "cell_type": "markdown",
   "metadata": {},
   "source": [
    "See [this Stack Overflow post](https://stackoverflow.com/questions/39983695/what-is-truthy-and-falsy-in-python-how-is-it-different-from-true-and-false), which reviews why this is the case."
   ]
  },
  {
   "cell_type": "markdown",
   "metadata": {},
   "source": [
    "What will the code below print?"
   ]
  },
  {
   "cell_type": "code",
   "execution_count": null,
   "metadata": {},
   "outputs": [],
   "source": [
    "a = 3\n",
    "\n",
    "if a < 0:\n",
    "    print(\"a is negative\")\n",
    "elif a < 3:\n",
    "    print(\"a is small\")\n",
    "elif a > 3:\n",
    "    print(\"a is large\")\n",
    "else:\n",
    "    print(\"a is right in the middle\")"
   ]
  },
  {
   "cell_type": "markdown",
   "metadata": {},
   "source": [
    "**PARTNER EXERCISE**\n",
    "\n",
    "Write a set of conditional statements, using comparison operators and anything else you want, that you think will fool another person. Once you're done, share your code with a partner and have them read through it to see what they think it will print."
   ]
  },
  {
   "cell_type": "markdown",
   "metadata": {},
   "source": [
    "**REVIEW SOME EXAMPLES FROM PARTNER EXERCISE**"
   ]
  },
  {
   "cell_type": "markdown",
   "metadata": {},
   "source": [
    "Here's an example of how you might use conditional statements with the `not` operator when processing a CSV (we haven't gone over all of this code, but follow the \"English\"):"
   ]
  },
  {
   "cell_type": "code",
   "execution_count": 46,
   "metadata": {},
   "outputs": [
    {
     "name": "stdout",
     "output_type": "stream",
     "text": [
      "Store 123, Item Bananas: 3 items at 0.50 price\n",
      "No item name - continuing\n",
      "No store ID - continuing\n",
      "No price - continuing\n",
      "No quantity - continuing\n"
     ]
    }
   ],
   "source": [
    "import csv\n",
    "\n",
    "with open('data/test.csv') as f:\n",
    "    csv_file = csv.reader(f)\n",
    "    \n",
    "    # Skip header\n",
    "    next(csv_file)\n",
    "    \n",
    "    # For every row in our CSV...\n",
    "    for row in csv_file:\n",
    "        # Grab each of the fields for this particular row\n",
    "        store_id, name, quantity, price = row\n",
    "        \n",
    "        if not store_id:\n",
    "            print(\"No store ID - continuing\")\n",
    "            # continue moves on to the next row of the CSV\n",
    "            # the code below IS NOT RUN\n",
    "            continue\n",
    "            \n",
    "        if not name:\n",
    "            print(\"No item name - continuing\")\n",
    "            continue\n",
    "            \n",
    "        # If quantity is missing, or 0, move on\n",
    "        if not int(quantity):\n",
    "            print(\"No quantity - continuing\")\n",
    "            continue\n",
    "            \n",
    "        # If price is missing, move on\n",
    "        if not price:\n",
    "            print(\"No price - continuing\")\n",
    "            continue\n",
    "            \n",
    "        print(\"Store {}, Item {}: {} items at {} price\".format(\n",
    "            store_id, name, quantity, price\n",
    "        ))"
   ]
  }
 ],
 "metadata": {
  "kernelspec": {
   "display_name": "Python 3",
   "language": "python",
   "name": "python3"
  },
  "language_info": {
   "codemirror_mode": {
    "name": "ipython",
    "version": 3
   },
   "file_extension": ".py",
   "mimetype": "text/x-python",
   "name": "python",
   "nbconvert_exporter": "python",
   "pygments_lexer": "ipython3",
   "version": "3.7.0"
  }
 },
 "nbformat": 4,
 "nbformat_minor": 2
}
